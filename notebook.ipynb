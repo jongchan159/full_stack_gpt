{
 "cells": [
  {
   "cell_type": "code",
   "execution_count": 35,
   "metadata": {},
   "outputs": [],
   "source": [
    "from langchain.chat_models import ChatOpenAI\n",
    "from langchain.prompts.few_shot import FewShotChatMessagePromptTemplate\n",
    "from langchain.callbacks import StreamingStdOutCallbackHandler\n",
    "from langchain.prompts import ChatMessagePromptTemplate, ChatPromptTemplate\n",
    "\n",
    "\n",
    "chat = ChatOpenAI(\n",
    "    temperature=0.1,\n",
    "    streaming=True,\n",
    "    callbacks=[\n",
    "        StreamingStdOutCallbackHandler(),\n",
    "    ],\n",
    "    max_tokens = -1,\n",
    ")"
   ]
  },
  {
   "cell_type": "code",
   "execution_count": 43,
   "metadata": {},
   "outputs": [
    {
     "name": "stderr",
     "output_type": "stream",
     "text": [
      "Retrying langchain.chat_models.openai.ChatOpenAI.completion_with_retry.<locals>._completion_with_retry in 4.0 seconds as it raised RateLimitError: You exceeded your current quota, please check your plan and billing details. For more information on this error, read the docs: https://platform.openai.com/docs/guides/error-codes/api-errors..\n"
     ]
    },
    {
     "name": "stdout",
     "output_type": "stream",
     "text": [
      "\n",
      "        Title: Titanic\n",
      "        Director: James Cameron\n",
      "        Main cast: Leonardo DiCaprio, Kate Winslet\n",
      "        Revenue: $2.2 billion (worldwide)\n",
      "        Genre: Romance, Drama\n",
      "        Brief Synopsis: Ill-fated love story aboard doomed ship.\n",
      "        "
     ]
    },
    {
     "data": {
      "text/plain": [
       "AIMessageChunk(content='\\n        Title: Titanic\\n        Director: James Cameron\\n        Main cast: Leonardo DiCaprio, Kate Winslet\\n        Revenue: $2.2 billion (worldwide)\\n        Genre: Romance, Drama\\n        Brief Synopsis: Ill-fated love story aboard doomed ship.\\n        ')"
      ]
     },
     "execution_count": 43,
     "metadata": {},
     "output_type": "execute_result"
    }
   ],
   "source": [
    "examples = [\n",
    "    {\n",
    "        \"title\": \"The Shining\",\n",
    "        \"answer\": \"\"\"\n",
    "        Title: The Shining\n",
    "        Director: Stanley Kubrick\n",
    "        Main cast: Jack Nicholson, Shelley Duvall\n",
    "        Revenue: $44 million (worldwide)\n",
    "        Genre: Horror, Psychological thriller\n",
    "        Brief Synopsis: Family isolated in hotel; father influenced, son sees horrors.\n",
    "        \"\"\",\n",
    "    },\n",
    "    {\n",
    "        \"title\": \"The Godfather\",\n",
    "        \"answer\": \"\"\"\n",
    "        Title: The Godfather\n",
    "        Director: Francis Ford Coppola\n",
    "        Main cast: Marlon Brando, Al Pacino, James Caan\n",
    "        Revenue: $246 million (worldwide)\n",
    "        Genre: Crime, Drama\n",
    "        Brief Synopsis: Crime boss passes empire to hesitant son.\n",
    "        \"\"\",\n",
    "    },\n",
    "    {\n",
    "        \"title\": \"Jaws\",\n",
    "        \"answer\": \"\"\"\n",
    "        Title: Jaws\n",
    "        Director: Steven Spielberg\n",
    "        Main cast: Roy Scheider, Robert Shaw, Richard Dreyfuss\n",
    "        Revenue: $470 million (worldwide)\n",
    "        Genre: Thriller, Adventure\n",
    "        Brief Synopsis: Shark attacks beach town; sheriff, biologist, seafarer hunt it.\n",
    "        \"\"\",\n",
    "    },\n",
    "]\n",
    "\n",
    "example_prompt = ChatPromptTemplate.from_messages(\n",
    "    [\n",
    "        (\"human\", \"What do you know about {title}?\"),\n",
    "        (\"ai\", \"{answer}\"),\n",
    "    ]   # in list\n",
    ")\n",
    "\n",
    "example_prompt = FewShotChatMessagePromptTemplate(\n",
    "    example_prompt=example_prompt,\n",
    "    examples=examples,\n",
    ")\n",
    "\n",
    "final_prompt = ChatPromptTemplate.from_messages(\n",
    "    [\n",
    "        (\"system\", \"You are a movie critic, you have to give me short answers.\"),\n",
    "        example_prompt,\n",
    "        (\"human\", \"What do you know about {title}?\"),\n",
    "    ]\n",
    ")\n",
    "\n",
    "chain = final_prompt | chat\n",
    "\n",
    "chain.invoke({\"title\": \"Titanic\"})"
   ]
  }
 ],
 "metadata": {
  "kernelspec": {
   "display_name": "venv",
   "language": "python",
   "name": "python3"
  },
  "language_info": {
   "codemirror_mode": {
    "name": "ipython",
    "version": 3
   },
   "file_extension": ".py",
   "mimetype": "text/x-python",
   "name": "python",
   "nbconvert_exporter": "python",
   "pygments_lexer": "ipython3",
   "version": "3.11.6"
  }
 },
 "nbformat": 4,
 "nbformat_minor": 2
}
