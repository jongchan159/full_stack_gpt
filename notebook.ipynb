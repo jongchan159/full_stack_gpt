{
 "cells": [
  {
   "cell_type": "code",
   "execution_count": 2,
   "metadata": {},
   "outputs": [],
   "source": [
    "from langchain.chat_models import ChatOpenAI\n",
    "from langchain.prompts.few_shot import FewShotChatMessagePromptTemplate\n",
    "from langchain.callbacks import StreamingStdOutCallbackHandler\n",
    "from langchain.prompts import ChatPromptTemplate, MessagesPlaceholder\n",
    "from langchain.memory import ConversationSummaryBufferMemory\n",
    "from langchain.schema.runnable import RunnablePassthrough\n",
    "\n",
    "\n",
    "llm = ChatOpenAI(\n",
    "    temperature=0.1,\n",
    "    streaming=True,\n",
    "    callbacks=[\n",
    "        StreamingStdOutCallbackHandler(),\n",
    "    ],\n",
    ")\n",
    "\n",
    "memory = ConversationSummaryBufferMemory(\n",
    "    llm=llm,\n",
    "    max_token_limit=180,\n",
    "    return_messages=True,\n",
    ")"
   ]
  },
  {
   "cell_type": "code",
   "execution_count": 36,
   "metadata": {},
   "outputs": [
    {
     "name": "stdout",
     "output_type": "stream",
     "text": [
      "examples=[{'title': 'The Godfather', 'answer': '👨\\u200d👨\\u200d👦🔫🍝'}, {'title': 'Jaws', 'answer': '🦈🏖️🚣\\u200d♂️'}, {'title': 'The Shining', 'answer': '👨\\u200d👩\\u200d👦\\u200d👦🪓👻'}] example_prompt=ChatPromptTemplate(input_variables=['answer', 'title'], messages=[HumanMessagePromptTemplate(prompt=PromptTemplate(input_variables=['title'], template='What do you know about {title}?')), AIMessagePromptTemplate(prompt=PromptTemplate(input_variables=['answer'], template='{answer}'))])\n",
      "The human mentions \"Jaws\" and the AI responds with shark, beach, and rowboat emojis. 🦈🏖️🚣‍♂️ The human brings up \"Top Gun\" and the AI responds with airplane, sunglasses, and fire emojis. ✈️🕶️🔥 The AI cannot recall the movie they asked about last, but when reminded of \"Jaws\" and \"Top Gun,\" it responds with the corresponding emojis. When prompted with \"Top Gun,\" the AI recalls the movie and responds appropriately. The human mentions \"Psycho\" but the AI does not provide a response, instead responding with shower, knife, and old woman emojis. 🚿🔪👵 The human asks the AI to tell them the movie it asked about last, to which the AI apologizes for not being able to recall and the human prompts with \"Top Gun.\" The AI responds with airplane, sunglasses, and fire emojis. ✈️🕶️🔥 The human mentions \"Psycho\" and the AI responds with shower, knife, and old woman emojis. 🚿🔪👵The human mentions \"Jaws\" and \"Top Gun,\" prompting the AI to respond with corresponding emojis. When asked about the movie it inquired about last, the AI responds with shower, knife, and old woman emojis. 🚿🔪👵The human mentions \"Jaws\" and \"Top Gun,\" prompting the AI to respond with corresponding emojis. When asked about the movie it inquired about last, the AI responds with shower, knife, and old woman emojis. 🚿🔪👵 The human mentions \"Jaws\" and the AI responds with shark, beach, and rowboat emojis. 🦈🏖️🚣‍♂️"
     ]
    }
   ],
   "source": [
    "# 예시 프롬프트들을 프롬프트 메모리에 넣는 과정\n",
    "\n",
    "examples = [\n",
    "    {\n",
    "        \"title\": \"The Godfather\",\n",
    "        \"answer\": \"👨‍👨‍👦🔫🍝\",\n",
    "    },\n",
    "    {\n",
    "        \"title\": \"Jaws\",\n",
    "        \"answer\": \"🦈🏖️🚣‍♂️\"\n",
    "    },\n",
    "    {\n",
    "        \"title\": \"The Shining\",\n",
    "        \"answer\": \"👨‍👩‍👦‍👦🪓👻\"\n",
    "    },\n",
    "]\n",
    "\n",
    "example_prompt = ChatPromptTemplate.from_messages(\n",
    "    [\n",
    "        (\"human\", \"What do you know about {title}?\"),\n",
    "        (\"ai\", \"{answer}\"),\n",
    "    ]   # in list\n",
    ") # 학습\n",
    "\n",
    "example_prompt = FewShotChatMessagePromptTemplate(\n",
    "    example_prompt=example_prompt,\n",
    "    examples=examples,\n",
    ") # 생성\n",
    "\n",
    "print(example_prompt)\n",
    "\n",
    "for example in example_prompt.examples:\n",
    "    memory.save_context(\n",
    "        {\"input\": example[\"title\"]},\n",
    "        {\"output\": example[\"answer\"]},\n",
    "    )\n",
    "\n",
    "prompt = ChatPromptTemplate.from_messages(\n",
    "    [\n",
    "        (\"system\", \"You have to give me expression of movie with three imojis\"),\n",
    "        MessagesPlaceholder(variable_name=\"history\"),\n",
    "        (\"human\", \"{question}\"),\n",
    "    ]\n",
    ")"
   ]
  },
  {
   "cell_type": "code",
   "execution_count": 40,
   "metadata": {},
   "outputs": [],
   "source": [
    "def load_memory(_):\n",
    "    return memory.load_memory_variables({})[\"history\"]\n",
    "\n",
    "chain = RunnablePassthrough.assign(history=load_memory) | prompt | llm\n",
    "\n",
    "def invoke_chain(question):\n",
    "    result = chain.invoke({\"question\": question})\n",
    "    memory.save_context(\n",
    "        {\"input\": question},\n",
    "        {\"output\": result.content},\n",
    "    )"
   ]
  },
  {
   "cell_type": "code",
   "execution_count": 38,
   "metadata": {},
   "outputs": [
    {
     "name": "stdout",
     "output_type": "stream",
     "text": [
      "✈️🕶️🔥The human mentions \"Jaws\" and \"Top Gun,\" prompting the AI to respond with corresponding emojis. When asked about the movie it inquired about last, the AI responds with shower, knife, and old woman emojis. 🚿🔪👵 The human mentions \"Jaws\" and the AI responds with shark, beach, and rowboat emojis. 🦈🏖️🚣‍♂️ The human mentions \"Top Gun\" and the AI responds with airplane, sunglasses, and fire emojis. ✈️🕶️🔥🚿🔪👵The human mentions \"Jaws\" and \"Top Gun,\" prompting the AI to respond with corresponding emojis. When asked about the movie it inquired about last, the AI responds with shower, knife, and old woman emojis. 🚿🔪👵 The human mentions \"Jaws\" and the AI responds with shark, beach, and rowboat emojis. 🦈🏖️🚣‍♂️ The human mentions \"Top Gun\" and the AI responds with airplane, sunglasses, and fire emojis. ✈️🕶️🔥 The human mentions \"Psycho\" and the AI apologizes for not being able to recall the previous movie asked about."
     ]
    }
   ],
   "source": [
    "invoke_chain(\"Top Gun\")\n",
    "invoke_chain(\"Psycho\")\n",
    "# Why do not recorded in memory?"
   ]
  },
  {
   "cell_type": "code",
   "execution_count": 39,
   "metadata": {},
   "outputs": [
    {
     "name": "stdout",
     "output_type": "stream",
     "text": [
      "I apologize, but I am unable to recall the previous movie asked about.The human mentions \"Jaws\" and \"Top Gun,\" prompting the AI to respond with corresponding emojis. When asked about the movie it inquired about last, the AI responds with shower, knife, and old woman emojis. 🚿🔪👵 The human mentions \"Jaws\" and the AI responds with shark, beach, and rowboat emojis. 🦈🏖️🚣‍♂️ The human mentions \"Top Gun\" and the AI responds with airplane, sunglasses, and fire emojis. ✈️🕶️🔥 The human mentions \"Psycho\" and the AI apologizes for not being able to recall the previous movie asked about. When asked about the movie it inquired about last, the AI responds with shower, knife, and old woman emojis. 🚿🔪👵"
     ]
    }
   ],
   "source": [
    "invoke_chain(\"Tell me what is the movie you asked about last.\")"
   ]
  }
 ],
 "metadata": {
  "kernelspec": {
   "display_name": "venv",
   "language": "python",
   "name": "python3"
  },
  "language_info": {
   "codemirror_mode": {
    "name": "ipython",
    "version": 3
   },
   "file_extension": ".py",
   "mimetype": "text/x-python",
   "name": "python",
   "nbconvert_exporter": "python",
   "pygments_lexer": "ipython3",
   "version": "3.11.6"
  }
 },
 "nbformat": 4,
 "nbformat_minor": 2
}
